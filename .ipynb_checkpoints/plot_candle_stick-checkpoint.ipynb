{
 "cells": [
  {
   "cell_type": "markdown",
   "metadata": {},
   "source": [
    "## 画K线图"
   ]
  },
  {
   "cell_type": "code",
   "execution_count": 5,
   "metadata": {},
   "outputs": [
    {
     "data": {
      "text/html": [
       "<div>\n",
       "<style>\n",
       "    .dataframe thead tr:only-child th {\n",
       "        text-align: right;\n",
       "    }\n",
       "\n",
       "    .dataframe thead th {\n",
       "        text-align: left;\n",
       "    }\n",
       "\n",
       "    .dataframe tbody tr th {\n",
       "        vertical-align: top;\n",
       "    }\n",
       "</style>\n",
       "<table border=\"1\" class=\"dataframe\">\n",
       "  <thead>\n",
       "    <tr style=\"text-align: right;\">\n",
       "      <th></th>\n",
       "      <th>open</th>\n",
       "      <th>close</th>\n",
       "      <th>high</th>\n",
       "      <th>low</th>\n",
       "      <th>volume</th>\n",
       "      <th>code</th>\n",
       "    </tr>\n",
       "    <tr>\n",
       "      <th>date</th>\n",
       "      <th></th>\n",
       "      <th></th>\n",
       "      <th></th>\n",
       "      <th></th>\n",
       "      <th></th>\n",
       "      <th></th>\n",
       "    </tr>\n",
       "  </thead>\n",
       "  <tbody>\n",
       "    <tr>\n",
       "      <th>2012-01-04</th>\n",
       "      <td>2361.50</td>\n",
       "      <td>2298.75</td>\n",
       "      <td>2365.99</td>\n",
       "      <td>2298.30</td>\n",
       "      <td>34344567.0</td>\n",
       "      <td>hs300</td>\n",
       "    </tr>\n",
       "    <tr>\n",
       "      <th>2012-01-05</th>\n",
       "      <td>2290.78</td>\n",
       "      <td>2276.39</td>\n",
       "      <td>2316.66</td>\n",
       "      <td>2272.15</td>\n",
       "      <td>43016480.0</td>\n",
       "      <td>hs300</td>\n",
       "    </tr>\n",
       "    <tr>\n",
       "      <th>2012-01-06</th>\n",
       "      <td>2274.35</td>\n",
       "      <td>2290.60</td>\n",
       "      <td>2291.89</td>\n",
       "      <td>2254.57</td>\n",
       "      <td>35198992.0</td>\n",
       "      <td>hs300</td>\n",
       "    </tr>\n",
       "    <tr>\n",
       "      <th>2012-01-09</th>\n",
       "      <td>2291.18</td>\n",
       "      <td>2368.57</td>\n",
       "      <td>2368.89</td>\n",
       "      <td>2271.72</td>\n",
       "      <td>54727341.0</td>\n",
       "      <td>hs300</td>\n",
       "    </tr>\n",
       "    <tr>\n",
       "      <th>2012-01-10</th>\n",
       "      <td>2365.77</td>\n",
       "      <td>2447.35</td>\n",
       "      <td>2449.96</td>\n",
       "      <td>2361.28</td>\n",
       "      <td>81154989.0</td>\n",
       "      <td>hs300</td>\n",
       "    </tr>\n",
       "  </tbody>\n",
       "</table>\n",
       "</div>"
      ],
      "text/plain": [
       "               open    close     high      low      volume   code\n",
       "date                                                             \n",
       "2012-01-04  2361.50  2298.75  2365.99  2298.30  34344567.0  hs300\n",
       "2012-01-05  2290.78  2276.39  2316.66  2272.15  43016480.0  hs300\n",
       "2012-01-06  2274.35  2290.60  2291.89  2254.57  35198992.0  hs300\n",
       "2012-01-09  2291.18  2368.57  2368.89  2271.72  54727341.0  hs300\n",
       "2012-01-10  2365.77  2447.35  2449.96  2361.28  81154989.0  hs300"
      ]
     },
     "execution_count": 5,
     "metadata": {},
     "output_type": "execute_result"
    }
   ],
   "source": [
    "import matplotlib.pyplot as plt\n",
    "import pandas as pd\n",
    "import numpy as np\n",
    "import matplotlib.finance as fin\n",
    "import tushare as ts\n",
    "\n",
    "# 将日期作为索引，并修改收盘价为股票名\n",
    "hs300 = ts.get_k_data('hs300', start='2012-01-01', end='2014-12-31')\n",
    "hs300 = hs300.set_index('date')\n",
    "\n",
    "# 将时间转化成画K线图函数需要的格式\n",
    "hs300.head()\n",
    "\n",
    "fig = plt.figure()\n",
    "ax = fig.add_subplot(1, 1, 1)\n",
    "arr = \n"
   ]
  }
 ],
 "metadata": {
  "kernelspec": {
   "display_name": "Python 3",
   "language": "python",
   "name": "python3"
  },
  "language_info": {
   "codemirror_mode": {
    "name": "ipython",
    "version": 3
   },
   "file_extension": ".py",
   "mimetype": "text/x-python",
   "name": "python",
   "nbconvert_exporter": "python",
   "pygments_lexer": "ipython3",
   "version": "3.6.2"
  }
 },
 "nbformat": 4,
 "nbformat_minor": 2
}
