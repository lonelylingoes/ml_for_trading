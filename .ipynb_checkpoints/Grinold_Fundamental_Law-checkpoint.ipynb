{
 "cells": [
  {
   "cell_type": "markdown",
   "metadata": {},
   "source": [
    "## Grinold's Fundamental Law\n",
    "\n",
    "绩效、技能与投资广度关联起来的方法：\n",
    "\n",
    "Performance =  Skill * sqrt(Breadth)\n",
    "\n",
    "用具体的公式来表示就是:\n",
    "\n",
    "IR = IC * sqrt(BR)\n",
    "\n",
    "==绩效==可以用信息比例*IR*来表示，跟夏普比率很像，可以代表超额回报的夏普比率(也就是基金经理超出市场的表现),==技能==用信息系数*IC*来表示，==广度==表示交易机会*BR*。\n",
    "因为Skill=reward/risk，将风险和回报结合起来考虑，有三个结论：\n",
    "1. 高的α有高的夏普比例\n",
    "2. 执行机会越多，夏普比率越高\n",
    "3. 夏普比例随着执行广度的平方根增加而增加。"
   ]
  }
 ],
 "metadata": {
  "kernelspec": {
   "display_name": "Python 3",
   "language": "python",
   "name": "python3"
  },
  "language_info": {
   "codemirror_mode": {
    "name": "ipython",
    "version": 3
   },
   "file_extension": ".py",
   "mimetype": "text/x-python",
   "name": "python",
   "nbconvert_exporter": "python",
   "pygments_lexer": "ipython3",
   "version": "3.6.5"
  }
 },
 "nbformat": 4,
 "nbformat_minor": 2
}
