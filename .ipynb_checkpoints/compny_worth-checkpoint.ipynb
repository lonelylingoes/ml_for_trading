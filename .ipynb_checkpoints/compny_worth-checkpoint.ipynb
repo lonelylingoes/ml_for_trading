{
 "cells": [
  {
   "cell_type": "markdown",
   "metadata": {},
   "source": [
    "## 公司价值\n",
    "公司价值的计算方式有三种\n",
    "1. 内在价值基于未来的股息(intrinsic value)。由每年股息/利率。考虑的是未来每年都给股息，未来的所有股息和在当前价值多少。\n",
    "2. 账面价值(book value)。所有生产资料的价值-负债，品牌价值不计算在内。\n",
    "3. 市值(market cap)。股票价格 * 流通的股票数量。\n"
   ]
  }
 ],
 "metadata": {
  "kernelspec": {
   "display_name": "Python 3",
   "language": "python",
   "name": "python3"
  },
  "language_info": {
   "codemirror_mode": {
    "name": "ipython",
    "version": 3
   },
   "file_extension": ".py",
   "mimetype": "text/x-python",
   "name": "python",
   "nbconvert_exporter": "python",
   "pygments_lexer": "ipython3",
   "version": "3.6.5"
  }
 },
 "nbformat": 4,
 "nbformat_minor": 2
}
