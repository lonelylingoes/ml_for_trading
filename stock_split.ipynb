{
 "cells": [
  {
   "cell_type": "markdown",
   "metadata": {},
   "source": [
    "## 股票拆分(stock split)\n",
    "\n",
    "有时候会看到股价突然变低一定比例，这并不是股票正常的波动，而是由于股票价格太高了，对股票进行拆分所造成的。如果直接使用这样的数据会带来问题，所以需要对之前的价格按照拆分后的价格重新计算，也就是所谓的前复权。\n",
    "\n",
    "## 股票派息\n",
    "\n",
    "股票派息跟拆分一样会造成股票的波动，所以需要对之前的价格进行矫正。"
   ]
  }
 ],
 "metadata": {
  "kernelspec": {
   "display_name": "Python 3",
   "language": "python",
   "name": "python3"
  },
  "language_info": {
   "codemirror_mode": {
    "name": "ipython",
    "version": 3
   },
   "file_extension": ".py",
   "mimetype": "text/x-python",
   "name": "python",
   "nbconvert_exporter": "python",
   "pygments_lexer": "ipython3",
   "version": "3.6.5"
  }
 },
 "nbformat": 4,
 "nbformat_minor": 2
}
