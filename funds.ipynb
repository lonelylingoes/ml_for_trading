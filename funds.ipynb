{
 "cells": [
  {
   "cell_type": "markdown",
   "metadata": {},
   "source": [
    "## 基金的种类和区别\n",
    "\n",
    "\n",
    "\n",
    "ETF                |   共同基金(Mutual Fund)                                   | 对冲基金(Hedge Fund) |\n",
    "---                |        ---                                             |        --\n",
    "跟股票一样随时买卖，通常是股票指数 | 只能某一天结束买卖，也就是买卖价格为一天的资产净值     |买卖协议             |\n",
    "一篮子股票         |    一篮子投资组合                                      | 没有披露        |\n",
    "公开透明           | 不那么完全公开透明                                     | 不透明         |     \n",
    "代码为5个字母          | 代码为3或4个字母                                   | 很长        |     \n",
    "\n",
    "\n",
    "##  不同基金的基金经理的报酬方式\n",
    "\n",
    "术语：资产管理规模(Assets Under Management)AUM\n",
    "\n",
    "基金                |方式                                 | \n",
    "---                 |        ---                                             | \n",
    "ETF                 | 根据费率(Expense Ratio)也就是AUM的一定百分比，通常比较低           |\n",
    "Mutual Fund         | 也根据费率，通常比ETF要高，需要更多的管理技巧                                    | \n",
    "Hedge Fund          | two and twenty， 2%的AUM加上20%的利润    \n",
    "\n",
    "\n",
    "\n",
    "\n",
    "## 对冲基金的投资者\n",
    "\n",
    "1. 个人。对冲基金通常投资者有个数上限，个人除非资金大，一般不多。\n",
    "2. 机构。比如养老金等等。\n",
    "3. 其他基金\n",
    "\n",
    "\n",
    "\n",
    "\n",
    "## 对冲基金的目标和度量\n",
    "\n",
    "#### 目标\n",
    "1. 超过某个基准，比如标普500指数\n",
    "2. 绝对回报\n",
    "\n",
    "#### 度量\n",
    "1. 累计收益\n",
    "2. 波动率(volatility)\n",
    "3. 风险/回报比，常用夏普比率来度量\n"
   ]
  }
 ],
 "metadata": {
  "kernelspec": {
   "display_name": "Python 3",
   "language": "python",
   "name": "python3"
  },
  "language_info": {
   "codemirror_mode": {
    "name": "ipython",
    "version": 3
   },
   "file_extension": ".py",
   "mimetype": "text/x-python",
   "name": "python",
   "nbconvert_exporter": "python",
   "pygments_lexer": "ipython3",
   "version": "3.6.5"
  }
 },
 "nbformat": 4,
 "nbformat_minor": 2
}
