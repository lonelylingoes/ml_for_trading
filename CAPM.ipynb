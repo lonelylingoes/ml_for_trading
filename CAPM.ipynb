{
 "cells": [
  {
   "cell_type": "markdown",
   "metadata": {},
   "source": [
    "## 资本资产计价模型(Captial Asset Pricing Model)\n",
    "\n",
    "单个股票在特定的某一天的回报等于β乘以市场回报，加上该股票这一天的α。所谓的市场指的就是大盘指数。\n",
    "\n",
    "```math\n",
    "r_i(t) = β_i * r_m(t) + α_i(t)\n",
    "```\n",
    "\n",
    "对于**事后**计算来说，对于特定股票与大盘指数的散点图，拟合成直线，β为斜率，α为截距。虽然有E(α_i(t)) = 0，但在实际上并不是总是为0。\n",
    "\n",
    "- 被动投资：购买大盘指数，并持有。\n",
    "- 主动投资: 挑选个股。\n",
    "\n",
    "他们对于资产计价模型的第一项都认同，他们的分歧主要在第二项。对于被动投资者，他们认为中α是随机的，并且有：\n",
    "\n",
    "```math\n",
    "E(α_i(t)) = 0\n",
    "```\n",
    "而主动投资者他们认为，他们能够预测α，虽然不一定总是对的，但是大概率能对。\n",
    "\n",
    "CAPM只允许我们考虑一个β，而套利定价理论(Arbitrage Pricing Theory),认为应该考虑多个β，比如不同行业的不同β，而不是单一的β。"
   ]
  },
  {
   "cell_type": "markdown",
   "metadata": {},
   "source": [
    "## 对冲基金如何使用CAPM\n",
    "\n",
    "对于投资组合CAPM模型的公式为：\n",
    "\n",
    "```math\n",
    "r_p(t) = sum(w_i *(β_i * r_m(t) + α_i(t))) \n",
    "     = sum(w_i *β_i * r_m(t)) + sum(w_i *α_i(t)))  \n",
    "     = β_p * r_m(t) + α_p(t)\n",
    "```\n",
    "对于*r_m(t)* 我们是无法预知的，而β_i 和α_i是可以获取的，那么有没有办法使得跟它没有关系呢？从公式看，令β_p = sum(w_i \\* β_i） = 0即可以排除 *r_m(t)* 的影响。那么只需找到一组满足条件的w_i即可，也就是给每个投资品找到一个权重。(记住，如果是卖空，在计算时，系数w是为负的)。\n"
   ]
  }
 ],
 "metadata": {
  "kernelspec": {
   "display_name": "Python 3",
   "language": "python",
   "name": "python3"
  },
  "language_info": {
   "codemirror_mode": {
    "name": "ipython",
    "version": 3
   },
   "file_extension": ".py",
   "mimetype": "text/x-python",
   "name": "python",
   "nbconvert_exporter": "python",
   "pygments_lexer": "ipython3",
   "version": "3.6.5"
  }
 },
 "nbformat": 4,
 "nbformat_minor": 2
}
